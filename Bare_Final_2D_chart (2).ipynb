{
  "cells": [
    {
      "cell_type": "code",
      "source": [
        "import sqlite3 as sql\n",
        "import pandas as pd\n",
        "import matplotlib.pyplot as plt\n",
        "import matplotlib.colors as mpl\n",
        "import numpy as np\n",
        "import ipywidgets as ipyw\n",
        "import warnings\n",
        "warnings.filterwarnings(\"ignore\")"
      ],
      "metadata": {
        "id": "TzhqlfrMeuqz"
      },
      "execution_count": 1,
      "outputs": []
    },
    {
      "cell_type": "code",
      "execution_count": 2,
      "metadata": {
        "id": "wzRWMUIcMrt-"
      },
      "outputs": [],
      "source": [
        "con = sql.connect(\"overall_data.db\")    \n",
        "cur = con.cursor()  "
      ]
    },
    {
      "cell_type": "code",
      "execution_count": 3,
      "metadata": {
        "id": "05A18JdMvbwc"
      },
      "outputs": [],
      "source": [
        "Query = \"SELECT DISTINCT Country FROM newdata\"\n",
        "cur.execute(Query)\n",
        "c = cur.fetchall()\n",
        "c = np.array(c)"
      ]
    },
    {
      "cell_type": "code",
      "execution_count": 4,
      "metadata": {
        "id": "E_ECCgpWybmc"
      },
      "outputs": [],
      "source": [
        "def getdata_country(country, things_to_get):\n",
        "    things = ', '.join(things_to_get)\n",
        "    Query=f\"SELECT {things} FROM newdata WHERE Country='{country}'\"   # Query a column from our table with a statement eg \"WHERE Country='Algeria\"\n",
        "    # print (Query)\n",
        "    cur.execute(Query)\n",
        "    data= cur.fetchall()   # Fetches all rows from the column and puts it in a variable   \n",
        "    return np.array(data).T  #outputs the data as a numpy array, transposed (.T) to easier separate the individual variables"
      ]
    },
    {
      "cell_type": "code",
      "execution_count": 31,
      "metadata": {
        "id": "su1USUf70FkH",
        "scrolled": false,
        "colab": {
          "base_uri": "https://localhost:8080/",
          "height": 551,
          "referenced_widgets": [
            "26d4821a9daf46288e57bd973453bc4d",
            "f013c30509194fb6bcfcf1c150573c07",
            "880dbb7acf61426b83e257cb5ccd392e",
            "864aaa301f8a48c098171d1d43e1b268",
            "3c1ca49f3bfc4407942fecadf304a9d6",
            "26437de0cbc64908a1361c2072621167",
            "83257e5f2eb842efbfc04ca7b6e1ee3b"
          ]
        },
        "outputId": "72ba41ac-3f2c-4767-dc12-a779ca72f01c"
      },
      "outputs": [
        {
          "output_type": "display_data",
          "data": {
            "text/plain": [
              "interactive(children=(SelectMultiple(description='Country:', index=(32,), options=('Algeria', 'Argentina', 'Au…"
            ],
            "application/vnd.jupyter.widget-view+json": {
              "version_major": 2,
              "version_minor": 0,
              "model_id": "26d4821a9daf46288e57bd973453bc4d"
            }
          },
          "metadata": {}
        }
      ],
      "source": [
        "def update(countrylist):\n",
        "    # List for the shapes in the Legend\n",
        "\n",
        "    shapes =['o', '.', 'X', 's', 'D', '*']\n",
        "    \n",
        "    # Clears the last scatter plot and creates a new one\n",
        "    fig9 = plt.figure(figsize=(10,6))\n",
        "    ax=fig9.add_subplot()\n",
        "    ax.clear()                #convert TWh to MWh ↓\n",
        "    ax.set_xlabel(r'Year', fontsize=16)\n",
        "    ax.set_ylabel(r'Fossil Fuel Consumption per Capita (MWh)', fontsize=15)\n",
        "    plt.xticks(rotation=65)\n",
        "    plt.title('Fuel Consumption by Capita by Year', weight='bold', fontsize=16)\n",
        "    \n",
        "    # Creates a colour bar and draws the chart\n",
        "    # cax = fig9.add_axes([0.15, 0.8, 0.2, 0.05])\n",
        "    fig9.colorbar(plt.cm.ScalarMappable(cmap='GnBu'),ax=[ax], location='right', label='GDP per Capita',)\n",
        "\n",
        "    #Loop over all selected countries and get data\n",
        "    for i, country in enumerate(countrylist):\n",
        "      data = getdata_country(country, ['year', 'fossil_fuels', 'population', 'gdp'])\n",
        "      sc_plot=ax.scatter(data[0], data[1]/data[2]*1000000, s=60, c=data[3]/data[2], cmap='GnBu',\n",
        "                       ec='k', linewidth=1, label=country, marker=(shapes[i%6]))\n",
        "    # Creates labels and legends\n",
        "    fig9.legend()\n",
        "    fig9.canvas.draw()\n",
        "  \n",
        "# create a dropdown menu    \n",
        "SelectMultiple = ipyw.SelectMultiple(\n",
        "    options= c[:,0],\n",
        "    value=['Ireland'],\n",
        "    description='Country:',\n",
        "    disabled=False,\n",
        ")\n",
        "\n",
        "ipyw.interact(update, countrylist=SelectMultiple);"
      ]
    }
  ],
  "metadata": {
    "colab": {
      "provenance": []
    },
    "kernelspec": {
      "display_name": "Python 3 (ipykernel)",
      "language": "python",
      "name": "python3"
    },
    "language_info": {
      "codemirror_mode": {
        "name": "ipython",
        "version": 3
      },
      "file_extension": ".py",
      "mimetype": "text/x-python",
      "name": "python",
      "nbconvert_exporter": "python",
      "pygments_lexer": "ipython3",
      "version": "3.9.12"
    },
    "widgets": {
      "application/vnd.jupyter.widget-state+json": {
        "26d4821a9daf46288e57bd973453bc4d": {
          "model_module": "@jupyter-widgets/controls",
          "model_name": "VBoxModel",
          "model_module_version": "1.5.0",
          "state": {
            "_dom_classes": [
              "widget-interact"
            ],
            "_model_module": "@jupyter-widgets/controls",
            "_model_module_version": "1.5.0",
            "_model_name": "VBoxModel",
            "_view_count": null,
            "_view_module": "@jupyter-widgets/controls",
            "_view_module_version": "1.5.0",
            "_view_name": "VBoxView",
            "box_style": "",
            "children": [
              "IPY_MODEL_f013c30509194fb6bcfcf1c150573c07",
              "IPY_MODEL_880dbb7acf61426b83e257cb5ccd392e"
            ],
            "layout": "IPY_MODEL_864aaa301f8a48c098171d1d43e1b268"
          }
        },
        "f013c30509194fb6bcfcf1c150573c07": {
          "model_module": "@jupyter-widgets/controls",
          "model_name": "SelectMultipleModel",
          "model_module_version": "1.5.0",
          "state": {
            "_dom_classes": [],
            "_model_module": "@jupyter-widgets/controls",
            "_model_module_version": "1.5.0",
            "_model_name": "SelectMultipleModel",
            "_options_labels": [
              "Algeria",
              "Argentina",
              "Australia",
              "Austria",
              "Azerbaijan",
              "Bangladesh",
              "Belarus",
              "Belgium",
              "Brazil",
              "Bulgaria",
              "Canada",
              "Chile",
              "China",
              "Colombia",
              "Croatia",
              "Cyprus",
              "Czechia",
              "Denmark",
              "Ecuador",
              "Egypt",
              "Estonia",
              "Finland",
              "France",
              "Germany",
              "Greece",
              "Hong Kong",
              "Hungary",
              "Iceland",
              "India",
              "Indonesia",
              "Iran",
              "Iraq",
              "Ireland",
              "Israel",
              "Italy",
              "Japan",
              "Kazakhstan",
              "Kuwait",
              "Latvia",
              "Lithuania",
              "Luxembourg",
              "Malaysia",
              "Mexico",
              "Morocco",
              "Netherlands",
              "New Zealand",
              "North Macedonia",
              "Norway",
              "Oman",
              "Pakistan",
              "Peru",
              "Philippines",
              "Poland",
              "Portugal",
              "Qatar",
              "Romania",
              "Russia",
              "Saudi Arabia",
              "Singapore",
              "Slovakia",
              "Slovenia",
              "South Africa",
              "South Korea",
              "Spain",
              "Sri Lanka",
              "Sweden",
              "Switzerland",
              "Thailand",
              "Trinidad and Tobago",
              "Turkey",
              "Turkmenistan",
              "Ukraine",
              "United Arab Emirates",
              "United Kingdom",
              "United States",
              "Uzbekistan",
              "Vietnam",
              "World"
            ],
            "_view_count": null,
            "_view_module": "@jupyter-widgets/controls",
            "_view_module_version": "1.5.0",
            "_view_name": "SelectMultipleView",
            "description": "Country:",
            "description_tooltip": null,
            "disabled": false,
            "index": [
              28,
              29,
              31,
              32
            ],
            "layout": "IPY_MODEL_3c1ca49f3bfc4407942fecadf304a9d6",
            "rows": 5,
            "style": "IPY_MODEL_26437de0cbc64908a1361c2072621167"
          }
        },
        "880dbb7acf61426b83e257cb5ccd392e": {
          "model_module": "@jupyter-widgets/output",
          "model_name": "OutputModel",
          "model_module_version": "1.0.0",
          "state": {
            "_dom_classes": [],
            "_model_module": "@jupyter-widgets/output",
            "_model_module_version": "1.0.0",
            "_model_name": "OutputModel",
            "_view_count": null,
            "_view_module": "@jupyter-widgets/output",
            "_view_module_version": "1.0.0",
            "_view_name": "OutputView",
            "layout": "IPY_MODEL_83257e5f2eb842efbfc04ca7b6e1ee3b",
            "msg_id": "",
            "outputs": [
              {
                "output_type": "display_data",
                "data": {
                  "text/plain": "<Figure size 720x432 with 2 Axes>",
                  "image/png": "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\n"
                },
                "metadata": {
                  "needs_background": "light"
                }
              }
            ]
          }
        },
        "864aaa301f8a48c098171d1d43e1b268": {
          "model_module": "@jupyter-widgets/base",
          "model_name": "LayoutModel",
          "model_module_version": "1.2.0",
          "state": {
            "_model_module": "@jupyter-widgets/base",
            "_model_module_version": "1.2.0",
            "_model_name": "LayoutModel",
            "_view_count": null,
            "_view_module": "@jupyter-widgets/base",
            "_view_module_version": "1.2.0",
            "_view_name": "LayoutView",
            "align_content": null,
            "align_items": null,
            "align_self": null,
            "border": null,
            "bottom": null,
            "display": null,
            "flex": null,
            "flex_flow": null,
            "grid_area": null,
            "grid_auto_columns": null,
            "grid_auto_flow": null,
            "grid_auto_rows": null,
            "grid_column": null,
            "grid_gap": null,
            "grid_row": null,
            "grid_template_areas": null,
            "grid_template_columns": null,
            "grid_template_rows": null,
            "height": null,
            "justify_content": null,
            "justify_items": null,
            "left": null,
            "margin": null,
            "max_height": null,
            "max_width": null,
            "min_height": null,
            "min_width": null,
            "object_fit": null,
            "object_position": null,
            "order": null,
            "overflow": null,
            "overflow_x": null,
            "overflow_y": null,
            "padding": null,
            "right": null,
            "top": null,
            "visibility": null,
            "width": null
          }
        },
        "3c1ca49f3bfc4407942fecadf304a9d6": {
          "model_module": "@jupyter-widgets/base",
          "model_name": "LayoutModel",
          "model_module_version": "1.2.0",
          "state": {
            "_model_module": "@jupyter-widgets/base",
            "_model_module_version": "1.2.0",
            "_model_name": "LayoutModel",
            "_view_count": null,
            "_view_module": "@jupyter-widgets/base",
            "_view_module_version": "1.2.0",
            "_view_name": "LayoutView",
            "align_content": null,
            "align_items": null,
            "align_self": null,
            "border": null,
            "bottom": null,
            "display": null,
            "flex": null,
            "flex_flow": null,
            "grid_area": null,
            "grid_auto_columns": null,
            "grid_auto_flow": null,
            "grid_auto_rows": null,
            "grid_column": null,
            "grid_gap": null,
            "grid_row": null,
            "grid_template_areas": null,
            "grid_template_columns": null,
            "grid_template_rows": null,
            "height": null,
            "justify_content": null,
            "justify_items": null,
            "left": null,
            "margin": null,
            "max_height": null,
            "max_width": null,
            "min_height": null,
            "min_width": null,
            "object_fit": null,
            "object_position": null,
            "order": null,
            "overflow": null,
            "overflow_x": null,
            "overflow_y": null,
            "padding": null,
            "right": null,
            "top": null,
            "visibility": null,
            "width": null
          }
        },
        "26437de0cbc64908a1361c2072621167": {
          "model_module": "@jupyter-widgets/controls",
          "model_name": "DescriptionStyleModel",
          "model_module_version": "1.5.0",
          "state": {
            "_model_module": "@jupyter-widgets/controls",
            "_model_module_version": "1.5.0",
            "_model_name": "DescriptionStyleModel",
            "_view_count": null,
            "_view_module": "@jupyter-widgets/base",
            "_view_module_version": "1.2.0",
            "_view_name": "StyleView",
            "description_width": ""
          }
        },
        "83257e5f2eb842efbfc04ca7b6e1ee3b": {
          "model_module": "@jupyter-widgets/base",
          "model_name": "LayoutModel",
          "model_module_version": "1.2.0",
          "state": {
            "_model_module": "@jupyter-widgets/base",
            "_model_module_version": "1.2.0",
            "_model_name": "LayoutModel",
            "_view_count": null,
            "_view_module": "@jupyter-widgets/base",
            "_view_module_version": "1.2.0",
            "_view_name": "LayoutView",
            "align_content": null,
            "align_items": null,
            "align_self": null,
            "border": null,
            "bottom": null,
            "display": null,
            "flex": null,
            "flex_flow": null,
            "grid_area": null,
            "grid_auto_columns": null,
            "grid_auto_flow": null,
            "grid_auto_rows": null,
            "grid_column": null,
            "grid_gap": null,
            "grid_row": null,
            "grid_template_areas": null,
            "grid_template_columns": null,
            "grid_template_rows": null,
            "height": null,
            "justify_content": null,
            "justify_items": null,
            "left": null,
            "margin": null,
            "max_height": null,
            "max_width": null,
            "min_height": null,
            "min_width": null,
            "object_fit": null,
            "object_position": null,
            "order": null,
            "overflow": null,
            "overflow_x": null,
            "overflow_y": null,
            "padding": null,
            "right": null,
            "top": null,
            "visibility": null,
            "width": null
          }
        }
      }
    }
  },
  "nbformat": 4,
  "nbformat_minor": 0
}