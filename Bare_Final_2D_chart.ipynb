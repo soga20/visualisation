{
  "cells": [
    {
      "cell_type": "code",
      "execution_count": null,
      "metadata": {
        "id": "cqxdXUqkN4zd"
      },
      "outputs": [],
      "source": [
        "import sqlite3 as sql\n",
        "import pandas as pd\n",
        "import matplotlib.pyplot as plt\n",
        "import matplotlib.colors as mpl\n",
        "import numpy as np\n",
        "import ipywidgets as ipyw\n",
        "import warnings\n",
        "warnings.filterwarnings(\"ignore\")"
      ]
    },
    {
      "cell_type": "code",
      "execution_count": null,
      "metadata": {
        "id": "wzRWMUIcMrt-"
      },
      "outputs": [],
      "source": [
        "con = sql.connect(\"overall_data.db\")    \n",
        "cur = con.cursor()  "
      ]
    },
    {
      "cell_type": "code",
      "execution_count": null,
      "metadata": {
        "id": "05A18JdMvbwc"
      },
      "outputs": [],
      "source": [
        "Query = \"SELECT DISTINCT Country FROM newdata\"\n",
        "cur.execute(Query)\n",
        "c = cur.fetchall()\n",
        "c = np.array(c)"
      ]
    },
    {
      "cell_type": "code",
      "execution_count": null,
      "metadata": {
        "id": "E_ECCgpWybmc"
      },
      "outputs": [],
      "source": [
        "def getdata_country(country, things_to_get):\n",
        "    things = ', '.join(things_to_get)\n",
        "    Query=f\"SELECT {things} FROM newdata WHERE Country='{country}'\"   # Query a column from our table with a statement eg \"WHERE Country='Algeria\"\n",
        "    # print (Query)\n",
        "    cur.execute(Query)\n",
        "    data= cur.fetchall()   # Fetches all rows from the column and puts it in a variable   \n",
        "    return np.array(data).T  #outputs the data as a numpy array, transposed (.T) to easier separate the individual variables"
      ]
    },
    {
      "cell_type": "code",
      "execution_count": null,
      "metadata": {
        "id": "su1USUf70FkH",
        "scrolled": false
      },
      "outputs": [],
      "source": [
        "def update(countrylist):\n",
        "    # Gets the data we need to plot\n",
        "\n",
        "    shapes =['o', '.', 'X', 's', 'D', '*']\n",
        "    \n",
        "    # Clears the last scatter plot and creates a new one\n",
        "    fig9 = plt.figure(figsize=(10,6))\n",
        "    ax=fig9.add_subplot()\n",
        "    ax.clear()                #convert TWh to MWh ↓\n",
        "    ax.set_xlabel(r'Year', fontsize=16)\n",
        "    ax.set_ylabel(r'Fossil Fuel Consumption per Capita (MWh)', fontsize=15)\n",
        "    plt.xticks(rotation=65)\n",
        "    plt.title('Fuel Consumption by Capita by Year', weight='bold', fontsize=16)\n",
        "    \n",
        "    # Creates a colour bar and draws the chart\n",
        "    cax = fig9.add_axes([0.15, 0.8, 0.2, 0.05])\n",
        "    fig9.colorbar(plt.cm.ScalarMappable(cmap='GnBu'),\n",
        "    cax=cax, orientation='horizontal', pad=1100, label='GDP per Capita',)\n",
        "\n",
        "    #Loop over all se;ected coutries\n",
        "    for i, country in enumerate(countrylist):\n",
        "      data = getdata_country(country, ['year', 'fossil_fuels', 'population', 'gdp'])\n",
        "      sc_plot=ax.scatter(data[0], data[1]/data[2]*1000000, s=60, c=data[3]/data[2], cmap='GnBu',\n",
        "                       ec='k', linewidth=1, label=country, marker=(shapes[i%6]))\n",
        "    # Creates labels and legends\n",
        "    fig9.legend()\n",
        "    fig9.canvas.draw()\n",
        "  \n",
        "# create a dropdown menu    \n",
        "SelectMultiple = ipyw.SelectMultiple(\n",
        "    options= c[:,0],\n",
        "    value=['Ireland'],\n",
        "    description='Country:',\n",
        "    disabled=False,\n",
        ")\n",
        "\n",
        "ipyw.interact(update, countrylist=SelectMultiple);"
      ]
    }
  ],
  "metadata": {
    "colab": {
      "provenance": []
    },
    "kernelspec": {
      "display_name": "Python 3 (ipykernel)",
      "language": "python",
      "name": "python3"
    },
    "language_info": {
      "codemirror_mode": {
        "name": "ipython",
        "version": 3
      },
      "file_extension": ".py",
      "mimetype": "text/x-python",
      "name": "python",
      "nbconvert_exporter": "python",
      "pygments_lexer": "ipython3",
      "version": "3.9.12"
    }
  },
  "nbformat": 4,
  "nbformat_minor": 0
}